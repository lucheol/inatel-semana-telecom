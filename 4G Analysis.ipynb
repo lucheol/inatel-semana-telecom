{
 "cells": [
  {
   "cell_type": "markdown",
   "metadata": {
    "slideshow": {
     "slide_type": "slide"
    }
   },
   "source": [
    "# Minicurso BigData Analisys with Python\n",
    "lucio.oliveira@inatel.br\n",
    "## Introdução ao Python\n",
    "---\n"
   ]
  },
  {
   "cell_type": "markdown",
   "metadata": {
    "slideshow": {
     "slide_type": "slide"
    }
   },
   "source": [
    "### Input e output"
   ]
  },
  {
   "cell_type": "code",
   "execution_count": 1,
   "metadata": {
    "slideshow": {
     "slide_type": "slide"
    }
   },
   "outputs": [],
   "source": [
    "# isso é um comentário\n",
    "'''\n",
    "    Isso é um comentário de bloco,\n",
    "    com várias linhas\n",
    "'''\n",
    "\n",
    "# variáveis e tipos\n",
    "a = 1\n",
    "b = 2.5\n",
    "c = \"Inatel\"\n",
    "d = True\n",
    "e = False\n",
    "g = [1,2,3,4]\n",
    "h = [\"a\", \"b\", \"c\"]\n",
    "i = ['A', 2]\n",
    "j = {'cor': 'azul', 'tamanho': 30}\n",
    "k = ('item 1', 'item 2')\n",
    "l = [\n",
    "    {'nome': \"João\", 'idade': 23},\n",
    "    {'nome': \"Maria\", 'idade': 22}\n",
    "]"
   ]
  },
  {
   "cell_type": "code",
   "execution_count": 2,
   "metadata": {
    "slideshow": {
     "slide_type": "slide"
    }
   },
   "outputs": [
    {
     "name": "stdout",
     "output_type": "stream",
     "text": [
      "1\n",
      "Seu nome: Inatel\n"
     ]
    }
   ],
   "source": [
    "print(a)\n",
    "print(\"Seu nome: \" + c)"
   ]
  },
  {
   "cell_type": "markdown",
   "metadata": {
    "slideshow": {
     "slide_type": "slide"
    }
   },
   "source": [
    "### Estruturas de controle"
   ]
  },
  {
   "cell_type": "code",
   "execution_count": 3,
   "metadata": {
    "slideshow": {
     "slide_type": "slide"
    }
   },
   "outputs": [
    {
     "name": "stdout",
     "output_type": "stream",
     "text": [
      "A varíavel x é maior do que 8\n"
     ]
    }
   ],
   "source": [
    "x = 10\n",
    "if (x > 8):\n",
    "    print(\"A varíavel x é maior do que 8\")"
   ]
  },
  {
   "cell_type": "code",
   "execution_count": 4,
   "metadata": {
    "slideshow": {
     "slide_type": "slide"
    }
   },
   "outputs": [
    {
     "name": "stdout",
     "output_type": "stream",
     "text": [
      "A varíavel x é exatamente 10.\n"
     ]
    }
   ],
   "source": [
    "x = 10\n",
    "if (x > 10):\n",
    "    print(\"A varíavel x é maior do que 8.\")\n",
    "elif x == 10:\n",
    "    print(\"A varíavel x é exatamente 10.\")\n",
    "else:\n",
    "    print(\"A variável x é menor do que 10.\")"
   ]
  },
  {
   "cell_type": "code",
   "execution_count": 5,
   "metadata": {
    "slideshow": {
     "slide_type": "slide"
    }
   },
   "outputs": [
    {
     "name": "stdout",
     "output_type": "stream",
     "text": [
      "Maria\n",
      "Carlos\n",
      "João\n"
     ]
    }
   ],
   "source": [
    "nomes = ['Maria', 'Carlos', 'João']\n",
    "\n",
    "for x in nomes:\n",
    "    print(x)\n"
   ]
  },
  {
   "cell_type": "markdown",
   "metadata": {
    "slideshow": {
     "slide_type": "slide"
    }
   },
   "source": [
    "### Funções"
   ]
  },
  {
   "cell_type": "code",
   "execution_count": 6,
   "metadata": {
    "slideshow": {
     "slide_type": "slide"
    }
   },
   "outputs": [
    {
     "data": {
      "text/plain": [
       "5"
      ]
     },
     "execution_count": 6,
     "metadata": {},
     "output_type": "execute_result"
    }
   ],
   "source": [
    "def soma(a,b):\n",
    "    return a + b\n",
    "\n",
    "soma(2,3)"
   ]
  },
  {
   "cell_type": "markdown",
   "metadata": {
    "slideshow": {
     "slide_type": "slide"
    }
   },
   "source": [
    "## Usando o Pandas"
   ]
  },
  {
   "cell_type": "code",
   "execution_count": 9,
   "metadata": {
    "slideshow": {
     "slide_type": "slide"
    }
   },
   "outputs": [],
   "source": [
    "import pandas as pd"
   ]
  },
  {
   "cell_type": "code",
   "execution_count": 10,
   "metadata": {
    "slideshow": {
     "slide_type": "fragment"
    }
   },
   "outputs": [
    {
     "data": {
      "text/html": [
       "<div>\n",
       "<style scoped>\n",
       "    .dataframe tbody tr th:only-of-type {\n",
       "        vertical-align: middle;\n",
       "    }\n",
       "\n",
       "    .dataframe tbody tr th {\n",
       "        vertical-align: top;\n",
       "    }\n",
       "\n",
       "    .dataframe thead th {\n",
       "        text-align: right;\n",
       "    }\n",
       "</style>\n",
       "<table border=\"1\" class=\"dataframe\">\n",
       "  <thead>\n",
       "    <tr style=\"text-align: right;\">\n",
       "      <th></th>\n",
       "      <th>0</th>\n",
       "    </tr>\n",
       "  </thead>\n",
       "  <tbody>\n",
       "    <tr>\n",
       "      <th>0</th>\n",
       "      <td>1</td>\n",
       "    </tr>\n",
       "    <tr>\n",
       "      <th>1</th>\n",
       "      <td>2</td>\n",
       "    </tr>\n",
       "    <tr>\n",
       "      <th>2</th>\n",
       "      <td>3</td>\n",
       "    </tr>\n",
       "    <tr>\n",
       "      <th>3</th>\n",
       "      <td>4</td>\n",
       "    </tr>\n",
       "  </tbody>\n",
       "</table>\n",
       "</div>"
      ],
      "text/plain": [
       "   0\n",
       "0  1\n",
       "1  2\n",
       "2  3\n",
       "3  4"
      ]
     },
     "execution_count": 10,
     "metadata": {},
     "output_type": "execute_result"
    }
   ],
   "source": [
    "pd.DataFrame([1,2,3,4])"
   ]
  },
  {
   "cell_type": "code",
   "execution_count": 11,
   "metadata": {
    "slideshow": {
     "slide_type": "fragment"
    }
   },
   "outputs": [
    {
     "data": {
      "text/html": [
       "<div>\n",
       "<style scoped>\n",
       "    .dataframe tbody tr th:only-of-type {\n",
       "        vertical-align: middle;\n",
       "    }\n",
       "\n",
       "    .dataframe tbody tr th {\n",
       "        vertical-align: top;\n",
       "    }\n",
       "\n",
       "    .dataframe thead th {\n",
       "        text-align: right;\n",
       "    }\n",
       "</style>\n",
       "<table border=\"1\" class=\"dataframe\">\n",
       "  <thead>\n",
       "    <tr style=\"text-align: right;\">\n",
       "      <th></th>\n",
       "      <th>0</th>\n",
       "      <th>1</th>\n",
       "      <th>2</th>\n",
       "      <th>3</th>\n",
       "    </tr>\n",
       "  </thead>\n",
       "  <tbody>\n",
       "    <tr>\n",
       "      <th>0</th>\n",
       "      <td>1</td>\n",
       "      <td>2</td>\n",
       "      <td>3</td>\n",
       "      <td>4</td>\n",
       "    </tr>\n",
       "    <tr>\n",
       "      <th>1</th>\n",
       "      <td>4</td>\n",
       "      <td>5</td>\n",
       "      <td>6</td>\n",
       "      <td>7</td>\n",
       "    </tr>\n",
       "  </tbody>\n",
       "</table>\n",
       "</div>"
      ],
      "text/plain": [
       "   0  1  2  3\n",
       "0  1  2  3  4\n",
       "1  4  5  6  7"
      ]
     },
     "execution_count": 11,
     "metadata": {},
     "output_type": "execute_result"
    }
   ],
   "source": [
    "pd.DataFrame([[1,2,3,4],[4,5,6,7]])"
   ]
  },
  {
   "cell_type": "code",
   "execution_count": 12,
   "metadata": {
    "slideshow": {
     "slide_type": "slide"
    }
   },
   "outputs": [],
   "source": [
    "dados = [\n",
    "    {'nome': \"Maria\", \"idade\": 20, 'np1': 30, 'np2': 35},\n",
    "    {'nome': \"João\", \"idade\":21, 'np1': 33, 'np2': 38},\n",
    "    {'nome': \"Carlos\", \"idade\":22, 'np1': 31, 'np2': 40},\n",
    "    {'nome': \"Marina\", \"idade\":17, 'np1': 25, 'np2': 30},\n",
    "]"
   ]
  },
  {
   "cell_type": "code",
   "execution_count": 13,
   "metadata": {
    "slideshow": {
     "slide_type": "fragment"
    }
   },
   "outputs": [],
   "source": [
    "pessoas = pd.DataFrame.from_dict(dados)"
   ]
  },
  {
   "cell_type": "code",
   "execution_count": 14,
   "metadata": {
    "slideshow": {
     "slide_type": "fragment"
    }
   },
   "outputs": [
    {
     "data": {
      "text/html": [
       "<div>\n",
       "<style scoped>\n",
       "    .dataframe tbody tr th:only-of-type {\n",
       "        vertical-align: middle;\n",
       "    }\n",
       "\n",
       "    .dataframe tbody tr th {\n",
       "        vertical-align: top;\n",
       "    }\n",
       "\n",
       "    .dataframe thead th {\n",
       "        text-align: right;\n",
       "    }\n",
       "</style>\n",
       "<table border=\"1\" class=\"dataframe\">\n",
       "  <thead>\n",
       "    <tr style=\"text-align: right;\">\n",
       "      <th></th>\n",
       "      <th>nome</th>\n",
       "      <th>idade</th>\n",
       "      <th>np1</th>\n",
       "      <th>np2</th>\n",
       "    </tr>\n",
       "  </thead>\n",
       "  <tbody>\n",
       "    <tr>\n",
       "      <th>0</th>\n",
       "      <td>Maria</td>\n",
       "      <td>20</td>\n",
       "      <td>30</td>\n",
       "      <td>35</td>\n",
       "    </tr>\n",
       "    <tr>\n",
       "      <th>1</th>\n",
       "      <td>João</td>\n",
       "      <td>21</td>\n",
       "      <td>33</td>\n",
       "      <td>38</td>\n",
       "    </tr>\n",
       "    <tr>\n",
       "      <th>2</th>\n",
       "      <td>Carlos</td>\n",
       "      <td>22</td>\n",
       "      <td>31</td>\n",
       "      <td>40</td>\n",
       "    </tr>\n",
       "    <tr>\n",
       "      <th>3</th>\n",
       "      <td>Marina</td>\n",
       "      <td>17</td>\n",
       "      <td>25</td>\n",
       "      <td>30</td>\n",
       "    </tr>\n",
       "  </tbody>\n",
       "</table>\n",
       "</div>"
      ],
      "text/plain": [
       "     nome  idade  np1  np2\n",
       "0   Maria     20   30   35\n",
       "1    João     21   33   38\n",
       "2  Carlos     22   31   40\n",
       "3  Marina     17   25   30"
      ]
     },
     "execution_count": 14,
     "metadata": {},
     "output_type": "execute_result"
    }
   ],
   "source": [
    "pessoas"
   ]
  },
  {
   "cell_type": "code",
   "execution_count": 15,
   "metadata": {
    "slideshow": {
     "slide_type": "slide"
    }
   },
   "outputs": [
    {
     "data": {
      "text/plain": [
       "0    20\n",
       "1    21\n",
       "2    22\n",
       "3    17\n",
       "Name: idade, dtype: int64"
      ]
     },
     "execution_count": 15,
     "metadata": {},
     "output_type": "execute_result"
    }
   ],
   "source": [
    "pessoas['idade']"
   ]
  },
  {
   "cell_type": "code",
   "execution_count": 16,
   "metadata": {
    "slideshow": {
     "slide_type": "fragment"
    }
   },
   "outputs": [
    {
     "data": {
      "text/plain": [
       "20.0"
      ]
     },
     "execution_count": 16,
     "metadata": {},
     "output_type": "execute_result"
    }
   ],
   "source": [
    "pessoas['idade'].mean()"
   ]
  },
  {
   "cell_type": "code",
   "execution_count": 17,
   "metadata": {
    "slideshow": {
     "slide_type": "fragment"
    }
   },
   "outputs": [
    {
     "data": {
      "text/html": [
       "<div>\n",
       "<style scoped>\n",
       "    .dataframe tbody tr th:only-of-type {\n",
       "        vertical-align: middle;\n",
       "    }\n",
       "\n",
       "    .dataframe tbody tr th {\n",
       "        vertical-align: top;\n",
       "    }\n",
       "\n",
       "    .dataframe thead th {\n",
       "        text-align: right;\n",
       "    }\n",
       "</style>\n",
       "<table border=\"1\" class=\"dataframe\">\n",
       "  <thead>\n",
       "    <tr style=\"text-align: right;\">\n",
       "      <th></th>\n",
       "      <th>nome</th>\n",
       "      <th>idade</th>\n",
       "      <th>np1</th>\n",
       "      <th>np2</th>\n",
       "    </tr>\n",
       "  </thead>\n",
       "  <tbody>\n",
       "    <tr>\n",
       "      <th>1</th>\n",
       "      <td>João</td>\n",
       "      <td>21</td>\n",
       "      <td>33</td>\n",
       "      <td>38</td>\n",
       "    </tr>\n",
       "  </tbody>\n",
       "</table>\n",
       "</div>"
      ],
      "text/plain": [
       "   nome  idade  np1  np2\n",
       "1  João     21   33   38"
      ]
     },
     "execution_count": 17,
     "metadata": {},
     "output_type": "execute_result"
    }
   ],
   "source": [
    "pessoas[(pessoas['nome'] == 'João')]"
   ]
  },
  {
   "cell_type": "code",
   "execution_count": 18,
   "metadata": {
    "slideshow": {
     "slide_type": "fragment"
    }
   },
   "outputs": [],
   "source": [
    "pessoas['Nota Final'] = pessoas['np1'] + pessoas['np2']"
   ]
  },
  {
   "cell_type": "code",
   "execution_count": 19,
   "metadata": {
    "slideshow": {
     "slide_type": "fragment"
    }
   },
   "outputs": [
    {
     "data": {
      "text/html": [
       "<div>\n",
       "<style scoped>\n",
       "    .dataframe tbody tr th:only-of-type {\n",
       "        vertical-align: middle;\n",
       "    }\n",
       "\n",
       "    .dataframe tbody tr th {\n",
       "        vertical-align: top;\n",
       "    }\n",
       "\n",
       "    .dataframe thead th {\n",
       "        text-align: right;\n",
       "    }\n",
       "</style>\n",
       "<table border=\"1\" class=\"dataframe\">\n",
       "  <thead>\n",
       "    <tr style=\"text-align: right;\">\n",
       "      <th></th>\n",
       "      <th>nome</th>\n",
       "      <th>idade</th>\n",
       "      <th>np1</th>\n",
       "      <th>np2</th>\n",
       "      <th>Nota Final</th>\n",
       "    </tr>\n",
       "  </thead>\n",
       "  <tbody>\n",
       "    <tr>\n",
       "      <th>0</th>\n",
       "      <td>Maria</td>\n",
       "      <td>20</td>\n",
       "      <td>30</td>\n",
       "      <td>35</td>\n",
       "      <td>65</td>\n",
       "    </tr>\n",
       "    <tr>\n",
       "      <th>1</th>\n",
       "      <td>João</td>\n",
       "      <td>21</td>\n",
       "      <td>33</td>\n",
       "      <td>38</td>\n",
       "      <td>71</td>\n",
       "    </tr>\n",
       "    <tr>\n",
       "      <th>2</th>\n",
       "      <td>Carlos</td>\n",
       "      <td>22</td>\n",
       "      <td>31</td>\n",
       "      <td>40</td>\n",
       "      <td>71</td>\n",
       "    </tr>\n",
       "    <tr>\n",
       "      <th>3</th>\n",
       "      <td>Marina</td>\n",
       "      <td>17</td>\n",
       "      <td>25</td>\n",
       "      <td>30</td>\n",
       "      <td>55</td>\n",
       "    </tr>\n",
       "  </tbody>\n",
       "</table>\n",
       "</div>"
      ],
      "text/plain": [
       "     nome  idade  np1  np2  Nota Final\n",
       "0   Maria     20   30   35          65\n",
       "1    João     21   33   38          71\n",
       "2  Carlos     22   31   40          71\n",
       "3  Marina     17   25   30          55"
      ]
     },
     "execution_count": 19,
     "metadata": {},
     "output_type": "execute_result"
    }
   ],
   "source": [
    "pessoas"
   ]
  },
  {
   "cell_type": "code",
   "execution_count": 20,
   "metadata": {
    "slideshow": {
     "slide_type": "slide"
    }
   },
   "outputs": [],
   "source": [
    "pessoas['maior'] = pessoas['idade'].apply(lambda x: True if x >= 18 else False)"
   ]
  },
  {
   "cell_type": "code",
   "execution_count": 21,
   "metadata": {
    "slideshow": {
     "slide_type": "fragment"
    }
   },
   "outputs": [
    {
     "data": {
      "text/html": [
       "<div>\n",
       "<style scoped>\n",
       "    .dataframe tbody tr th:only-of-type {\n",
       "        vertical-align: middle;\n",
       "    }\n",
       "\n",
       "    .dataframe tbody tr th {\n",
       "        vertical-align: top;\n",
       "    }\n",
       "\n",
       "    .dataframe thead th {\n",
       "        text-align: right;\n",
       "    }\n",
       "</style>\n",
       "<table border=\"1\" class=\"dataframe\">\n",
       "  <thead>\n",
       "    <tr style=\"text-align: right;\">\n",
       "      <th></th>\n",
       "      <th>nome</th>\n",
       "      <th>idade</th>\n",
       "      <th>np1</th>\n",
       "      <th>np2</th>\n",
       "      <th>Nota Final</th>\n",
       "      <th>maior</th>\n",
       "    </tr>\n",
       "  </thead>\n",
       "  <tbody>\n",
       "    <tr>\n",
       "      <th>0</th>\n",
       "      <td>Maria</td>\n",
       "      <td>20</td>\n",
       "      <td>30</td>\n",
       "      <td>35</td>\n",
       "      <td>65</td>\n",
       "      <td>True</td>\n",
       "    </tr>\n",
       "    <tr>\n",
       "      <th>1</th>\n",
       "      <td>João</td>\n",
       "      <td>21</td>\n",
       "      <td>33</td>\n",
       "      <td>38</td>\n",
       "      <td>71</td>\n",
       "      <td>True</td>\n",
       "    </tr>\n",
       "    <tr>\n",
       "      <th>2</th>\n",
       "      <td>Carlos</td>\n",
       "      <td>22</td>\n",
       "      <td>31</td>\n",
       "      <td>40</td>\n",
       "      <td>71</td>\n",
       "      <td>True</td>\n",
       "    </tr>\n",
       "    <tr>\n",
       "      <th>3</th>\n",
       "      <td>Marina</td>\n",
       "      <td>17</td>\n",
       "      <td>25</td>\n",
       "      <td>30</td>\n",
       "      <td>55</td>\n",
       "      <td>False</td>\n",
       "    </tr>\n",
       "  </tbody>\n",
       "</table>\n",
       "</div>"
      ],
      "text/plain": [
       "     nome  idade  np1  np2  Nota Final  maior\n",
       "0   Maria     20   30   35          65   True\n",
       "1    João     21   33   38          71   True\n",
       "2  Carlos     22   31   40          71   True\n",
       "3  Marina     17   25   30          55  False"
      ]
     },
     "execution_count": 21,
     "metadata": {},
     "output_type": "execute_result"
    }
   ],
   "source": [
    "pessoas"
   ]
  },
  {
   "cell_type": "markdown",
   "metadata": {
    "slideshow": {
     "slide_type": "slide"
    }
   },
   "source": [
    "## Prática com dados de 4G"
   ]
  },
  {
   "cell_type": "markdown",
   "metadata": {
    "slideshow": {
     "slide_type": "subslide"
    }
   },
   "source": [
    "### Pergunta 1: Verificar na célula que teve a maior média de tráfego no último ano, o mês e o dia com maior média de tráfego para entender o seu comportamento."
   ]
  },
  {
   "cell_type": "code",
   "execution_count": 22,
   "metadata": {
    "slideshow": {
     "slide_type": "slide"
    }
   },
   "outputs": [],
   "source": [
    "#importação de bibliotecas no python\n",
    "\n",
    "import pandas as pd  #para trabalhar com o pandas (dataframes)\n",
    "import numpy as np #para trabalhar com vetores e operações matemáticas de forma mais eficiente\n",
    "import datetime  #biblioteca para manipular datas\n"
   ]
  },
  {
   "cell_type": "code",
   "execution_count": 23,
   "metadata": {
    "slideshow": {
     "slide_type": "fragment"
    }
   },
   "outputs": [],
   "source": [
    "# a variavel df recebe um dataframe que é lido a partir de um arquivo CSV.\n",
    "# É possível ler muitos tipos de arquivos e transformá-los em dataframes para manipular com o python\n",
    "df = pd.read_csv('4G_traffic.csv')"
   ]
  },
  {
   "cell_type": "code",
   "execution_count": 24,
   "metadata": {
    "slideshow": {
     "slide_type": "slide"
    }
   },
   "outputs": [
    {
     "data": {
      "text/plain": [
       "(497544, 4)"
      ]
     },
     "execution_count": 24,
     "metadata": {},
     "output_type": "execute_result"
    }
   ],
   "source": [
    "#nos mostra a quantidade de linhas e colunas\n",
    "df.shape"
   ]
  },
  {
   "cell_type": "code",
   "execution_count": 25,
   "metadata": {
    "slideshow": {
     "slide_type": "fragment"
    }
   },
   "outputs": [
    {
     "data": {
      "text/html": [
       "<div>\n",
       "<style scoped>\n",
       "    .dataframe tbody tr th:only-of-type {\n",
       "        vertical-align: middle;\n",
       "    }\n",
       "\n",
       "    .dataframe tbody tr th {\n",
       "        vertical-align: top;\n",
       "    }\n",
       "\n",
       "    .dataframe thead th {\n",
       "        text-align: right;\n",
       "    }\n",
       "</style>\n",
       "<table border=\"1\" class=\"dataframe\">\n",
       "  <thead>\n",
       "    <tr style=\"text-align: right;\">\n",
       "      <th></th>\n",
       "      <th>Hour</th>\n",
       "      <th>Traffic</th>\n",
       "    </tr>\n",
       "  </thead>\n",
       "  <tbody>\n",
       "    <tr>\n",
       "      <th>count</th>\n",
       "      <td>497544.000000</td>\n",
       "      <td>497544.000000</td>\n",
       "    </tr>\n",
       "    <tr>\n",
       "      <th>mean</th>\n",
       "      <td>11.496155</td>\n",
       "      <td>526.451673</td>\n",
       "    </tr>\n",
       "    <tr>\n",
       "      <th>std</th>\n",
       "      <td>6.911230</td>\n",
       "      <td>667.747113</td>\n",
       "    </tr>\n",
       "    <tr>\n",
       "      <th>min</th>\n",
       "      <td>0.000000</td>\n",
       "      <td>0.000000</td>\n",
       "    </tr>\n",
       "    <tr>\n",
       "      <th>25%</th>\n",
       "      <td>6.000000</td>\n",
       "      <td>73.683195</td>\n",
       "    </tr>\n",
       "    <tr>\n",
       "      <th>50%</th>\n",
       "      <td>11.000000</td>\n",
       "      <td>285.938680</td>\n",
       "    </tr>\n",
       "    <tr>\n",
       "      <th>75%</th>\n",
       "      <td>17.000000</td>\n",
       "      <td>725.174088</td>\n",
       "    </tr>\n",
       "    <tr>\n",
       "      <th>max</th>\n",
       "      <td>23.000000</td>\n",
       "      <td>10282.963340</td>\n",
       "    </tr>\n",
       "  </tbody>\n",
       "</table>\n",
       "</div>"
      ],
      "text/plain": [
       "                Hour        Traffic\n",
       "count  497544.000000  497544.000000\n",
       "mean       11.496155     526.451673\n",
       "std         6.911230     667.747113\n",
       "min         0.000000       0.000000\n",
       "25%         6.000000      73.683195\n",
       "50%        11.000000     285.938680\n",
       "75%        17.000000     725.174088\n",
       "max        23.000000   10282.963340"
      ]
     },
     "execution_count": 25,
     "metadata": {},
     "output_type": "execute_result"
    }
   ],
   "source": [
    "#mostra algumas informações úteis e iniciais do DF\n",
    "df.describe()"
   ]
  },
  {
   "cell_type": "code",
   "execution_count": 26,
   "metadata": {
    "slideshow": {
     "slide_type": "fragment"
    }
   },
   "outputs": [
    {
     "data": {
      "text/html": [
       "<div>\n",
       "<style scoped>\n",
       "    .dataframe tbody tr th:only-of-type {\n",
       "        vertical-align: middle;\n",
       "    }\n",
       "\n",
       "    .dataframe tbody tr th {\n",
       "        vertical-align: top;\n",
       "    }\n",
       "\n",
       "    .dataframe thead th {\n",
       "        text-align: right;\n",
       "    }\n",
       "</style>\n",
       "<table border=\"1\" class=\"dataframe\">\n",
       "  <thead>\n",
       "    <tr style=\"text-align: right;\">\n",
       "      <th></th>\n",
       "      <th>Date</th>\n",
       "      <th>Hour</th>\n",
       "      <th>CellName</th>\n",
       "      <th>Traffic</th>\n",
       "    </tr>\n",
       "  </thead>\n",
       "  <tbody>\n",
       "    <tr>\n",
       "      <th>0</th>\n",
       "      <td>10/23/2017 0:00</td>\n",
       "      <td>7</td>\n",
       "      <td>Cell_001803</td>\n",
       "      <td>15.13867</td>\n",
       "    </tr>\n",
       "    <tr>\n",
       "      <th>1</th>\n",
       "      <td>10/23/2017 0:00</td>\n",
       "      <td>2</td>\n",
       "      <td>Cell_002303</td>\n",
       "      <td>2.05516</td>\n",
       "    </tr>\n",
       "    <tr>\n",
       "      <th>2</th>\n",
       "      <td>10/23/2017 0:00</td>\n",
       "      <td>7</td>\n",
       "      <td>Cell_004083</td>\n",
       "      <td>71.55308</td>\n",
       "    </tr>\n",
       "    <tr>\n",
       "      <th>3</th>\n",
       "      <td>10/23/2017 0:00</td>\n",
       "      <td>0</td>\n",
       "      <td>Cell_003781</td>\n",
       "      <td>557.98491</td>\n",
       "    </tr>\n",
       "    <tr>\n",
       "      <th>4</th>\n",
       "      <td>10/23/2017 0:00</td>\n",
       "      <td>3</td>\n",
       "      <td>Cell_000112</td>\n",
       "      <td>0.98166</td>\n",
       "    </tr>\n",
       "  </tbody>\n",
       "</table>\n",
       "</div>"
      ],
      "text/plain": [
       "              Date  Hour     CellName    Traffic\n",
       "0  10/23/2017 0:00     7  Cell_001803   15.13867\n",
       "1  10/23/2017 0:00     2  Cell_002303    2.05516\n",
       "2  10/23/2017 0:00     7  Cell_004083   71.55308\n",
       "3  10/23/2017 0:00     0  Cell_003781  557.98491\n",
       "4  10/23/2017 0:00     3  Cell_000112    0.98166"
      ]
     },
     "execution_count": 26,
     "metadata": {},
     "output_type": "execute_result"
    }
   ],
   "source": [
    "# exibe as linhas e colunas iniciais do DF para entendermos como ele é\n",
    "df.head()"
   ]
  },
  {
   "cell_type": "code",
   "execution_count": 27,
   "metadata": {
    "slideshow": {
     "slide_type": "slide"
    }
   },
   "outputs": [],
   "source": [
    "#vamos declarar uma funcao para nos ajudar a unir a data e a hora em uma única coluna\n",
    "#e também convertê-la para um objeto do tipo datetime\n",
    "def join_date(row):\n",
    "    date = row['Date'].split(' ')[0]\n",
    "    hour = f\" {row['Hour']}:00\"\n",
    "    return datetime.datetime.strptime(date+hour, '%m/%d/%Y %H:%M')"
   ]
  },
  {
   "cell_type": "code",
   "execution_count": 28,
   "metadata": {
    "slideshow": {
     "slide_type": "fragment"
    }
   },
   "outputs": [],
   "source": [
    "#podemos utilizar o apply para executar operações/aplicar funções em uma coluna ou série\n",
    "#criamos uma nova coluna DateTime que tem o resultado da aplicação da função join_date\n",
    "df['DateTime'] = df.apply(join_date, axis=1)"
   ]
  },
  {
   "cell_type": "code",
   "execution_count": 29,
   "metadata": {
    "slideshow": {
     "slide_type": "fragment"
    }
   },
   "outputs": [
    {
     "data": {
      "text/html": [
       "<div>\n",
       "<style scoped>\n",
       "    .dataframe tbody tr th:only-of-type {\n",
       "        vertical-align: middle;\n",
       "    }\n",
       "\n",
       "    .dataframe tbody tr th {\n",
       "        vertical-align: top;\n",
       "    }\n",
       "\n",
       "    .dataframe thead th {\n",
       "        text-align: right;\n",
       "    }\n",
       "</style>\n",
       "<table border=\"1\" class=\"dataframe\">\n",
       "  <thead>\n",
       "    <tr style=\"text-align: right;\">\n",
       "      <th></th>\n",
       "      <th>Date</th>\n",
       "      <th>Hour</th>\n",
       "      <th>CellName</th>\n",
       "      <th>Traffic</th>\n",
       "      <th>DateTime</th>\n",
       "    </tr>\n",
       "  </thead>\n",
       "  <tbody>\n",
       "    <tr>\n",
       "      <th>0</th>\n",
       "      <td>10/23/2017 0:00</td>\n",
       "      <td>7</td>\n",
       "      <td>Cell_001803</td>\n",
       "      <td>15.13867</td>\n",
       "      <td>2017-10-23 07:00:00</td>\n",
       "    </tr>\n",
       "    <tr>\n",
       "      <th>1</th>\n",
       "      <td>10/23/2017 0:00</td>\n",
       "      <td>2</td>\n",
       "      <td>Cell_002303</td>\n",
       "      <td>2.05516</td>\n",
       "      <td>2017-10-23 02:00:00</td>\n",
       "    </tr>\n",
       "    <tr>\n",
       "      <th>2</th>\n",
       "      <td>10/23/2017 0:00</td>\n",
       "      <td>7</td>\n",
       "      <td>Cell_004083</td>\n",
       "      <td>71.55308</td>\n",
       "      <td>2017-10-23 07:00:00</td>\n",
       "    </tr>\n",
       "    <tr>\n",
       "      <th>3</th>\n",
       "      <td>10/23/2017 0:00</td>\n",
       "      <td>0</td>\n",
       "      <td>Cell_003781</td>\n",
       "      <td>557.98491</td>\n",
       "      <td>2017-10-23 00:00:00</td>\n",
       "    </tr>\n",
       "    <tr>\n",
       "      <th>4</th>\n",
       "      <td>10/23/2017 0:00</td>\n",
       "      <td>3</td>\n",
       "      <td>Cell_000112</td>\n",
       "      <td>0.98166</td>\n",
       "      <td>2017-10-23 03:00:00</td>\n",
       "    </tr>\n",
       "  </tbody>\n",
       "</table>\n",
       "</div>"
      ],
      "text/plain": [
       "              Date  Hour     CellName    Traffic            DateTime\n",
       "0  10/23/2017 0:00     7  Cell_001803   15.13867 2017-10-23 07:00:00\n",
       "1  10/23/2017 0:00     2  Cell_002303    2.05516 2017-10-23 02:00:00\n",
       "2  10/23/2017 0:00     7  Cell_004083   71.55308 2017-10-23 07:00:00\n",
       "3  10/23/2017 0:00     0  Cell_003781  557.98491 2017-10-23 00:00:00\n",
       "4  10/23/2017 0:00     3  Cell_000112    0.98166 2017-10-23 03:00:00"
      ]
     },
     "execution_count": 29,
     "metadata": {},
     "output_type": "execute_result"
    }
   ],
   "source": [
    "#vamos dar uma olhada no resultado\n",
    "df.head()"
   ]
  },
  {
   "cell_type": "code",
   "execution_count": 30,
   "metadata": {
    "slideshow": {
     "slide_type": "slide"
    }
   },
   "outputs": [],
   "source": [
    "#nao precisamos mais das colunas Date e Hour, podemos apagá-las\n",
    "df.drop(['Date', 'Hour'], axis=1, inplace=True)"
   ]
  },
  {
   "cell_type": "code",
   "execution_count": 31,
   "metadata": {
    "slideshow": {
     "slide_type": "fragment"
    }
   },
   "outputs": [
    {
     "data": {
      "text/html": [
       "<div>\n",
       "<style scoped>\n",
       "    .dataframe tbody tr th:only-of-type {\n",
       "        vertical-align: middle;\n",
       "    }\n",
       "\n",
       "    .dataframe tbody tr th {\n",
       "        vertical-align: top;\n",
       "    }\n",
       "\n",
       "    .dataframe thead th {\n",
       "        text-align: right;\n",
       "    }\n",
       "</style>\n",
       "<table border=\"1\" class=\"dataframe\">\n",
       "  <thead>\n",
       "    <tr style=\"text-align: right;\">\n",
       "      <th></th>\n",
       "      <th>CellName</th>\n",
       "      <th>Traffic</th>\n",
       "      <th>DateTime</th>\n",
       "    </tr>\n",
       "  </thead>\n",
       "  <tbody>\n",
       "    <tr>\n",
       "      <th>0</th>\n",
       "      <td>Cell_001803</td>\n",
       "      <td>15.13867</td>\n",
       "      <td>2017-10-23 07:00:00</td>\n",
       "    </tr>\n",
       "    <tr>\n",
       "      <th>1</th>\n",
       "      <td>Cell_002303</td>\n",
       "      <td>2.05516</td>\n",
       "      <td>2017-10-23 02:00:00</td>\n",
       "    </tr>\n",
       "    <tr>\n",
       "      <th>2</th>\n",
       "      <td>Cell_004083</td>\n",
       "      <td>71.55308</td>\n",
       "      <td>2017-10-23 07:00:00</td>\n",
       "    </tr>\n",
       "    <tr>\n",
       "      <th>3</th>\n",
       "      <td>Cell_003781</td>\n",
       "      <td>557.98491</td>\n",
       "      <td>2017-10-23 00:00:00</td>\n",
       "    </tr>\n",
       "    <tr>\n",
       "      <th>4</th>\n",
       "      <td>Cell_000112</td>\n",
       "      <td>0.98166</td>\n",
       "      <td>2017-10-23 03:00:00</td>\n",
       "    </tr>\n",
       "  </tbody>\n",
       "</table>\n",
       "</div>"
      ],
      "text/plain": [
       "      CellName    Traffic            DateTime\n",
       "0  Cell_001803   15.13867 2017-10-23 07:00:00\n",
       "1  Cell_002303    2.05516 2017-10-23 02:00:00\n",
       "2  Cell_004083   71.55308 2017-10-23 07:00:00\n",
       "3  Cell_003781  557.98491 2017-10-23 00:00:00\n",
       "4  Cell_000112    0.98166 2017-10-23 03:00:00"
      ]
     },
     "execution_count": 31,
     "metadata": {},
     "output_type": "execute_result"
    }
   ],
   "source": [
    "#vejamos o resultado\n",
    "df.head()"
   ]
  },
  {
   "cell_type": "code",
   "execution_count": 32,
   "metadata": {
    "slideshow": {
     "slide_type": "slide"
    }
   },
   "outputs": [],
   "source": [
    "#podemos reordenar colunas de um DF\n",
    "df = df[['DateTime', 'CellName', 'Traffic']]"
   ]
  },
  {
   "cell_type": "code",
   "execution_count": 33,
   "metadata": {
    "slideshow": {
     "slide_type": "fragment"
    }
   },
   "outputs": [
    {
     "data": {
      "text/html": [
       "<div>\n",
       "<style scoped>\n",
       "    .dataframe tbody tr th:only-of-type {\n",
       "        vertical-align: middle;\n",
       "    }\n",
       "\n",
       "    .dataframe tbody tr th {\n",
       "        vertical-align: top;\n",
       "    }\n",
       "\n",
       "    .dataframe thead th {\n",
       "        text-align: right;\n",
       "    }\n",
       "</style>\n",
       "<table border=\"1\" class=\"dataframe\">\n",
       "  <thead>\n",
       "    <tr style=\"text-align: right;\">\n",
       "      <th></th>\n",
       "      <th>DateTime</th>\n",
       "      <th>CellName</th>\n",
       "      <th>Traffic</th>\n",
       "    </tr>\n",
       "  </thead>\n",
       "  <tbody>\n",
       "    <tr>\n",
       "      <th>0</th>\n",
       "      <td>2017-10-23 07:00:00</td>\n",
       "      <td>Cell_001803</td>\n",
       "      <td>15.13867</td>\n",
       "    </tr>\n",
       "    <tr>\n",
       "      <th>1</th>\n",
       "      <td>2017-10-23 02:00:00</td>\n",
       "      <td>Cell_002303</td>\n",
       "      <td>2.05516</td>\n",
       "    </tr>\n",
       "    <tr>\n",
       "      <th>2</th>\n",
       "      <td>2017-10-23 07:00:00</td>\n",
       "      <td>Cell_004083</td>\n",
       "      <td>71.55308</td>\n",
       "    </tr>\n",
       "    <tr>\n",
       "      <th>3</th>\n",
       "      <td>2017-10-23 00:00:00</td>\n",
       "      <td>Cell_003781</td>\n",
       "      <td>557.98491</td>\n",
       "    </tr>\n",
       "    <tr>\n",
       "      <th>4</th>\n",
       "      <td>2017-10-23 03:00:00</td>\n",
       "      <td>Cell_000112</td>\n",
       "      <td>0.98166</td>\n",
       "    </tr>\n",
       "  </tbody>\n",
       "</table>\n",
       "</div>"
      ],
      "text/plain": [
       "             DateTime     CellName    Traffic\n",
       "0 2017-10-23 07:00:00  Cell_001803   15.13867\n",
       "1 2017-10-23 02:00:00  Cell_002303    2.05516\n",
       "2 2017-10-23 07:00:00  Cell_004083   71.55308\n",
       "3 2017-10-23 00:00:00  Cell_003781  557.98491\n",
       "4 2017-10-23 03:00:00  Cell_000112    0.98166"
      ]
     },
     "execution_count": 33,
     "metadata": {},
     "output_type": "execute_result"
    }
   ],
   "source": [
    "df.head()"
   ]
  },
  {
   "cell_type": "code",
   "execution_count": 34,
   "metadata": {
    "slideshow": {
     "slide_type": "slide"
    }
   },
   "outputs": [],
   "source": [
    "#Uma função importante e útil é o agrupamento. \n",
    "#Podemos agrupar o DF por uma ou mais colunas e determinar uma operação nas colunas restantes.\n",
    "df_avg = df.groupby(['CellName'])['Traffic'].mean()"
   ]
  },
  {
   "cell_type": "code",
   "execution_count": 35,
   "metadata": {
    "slideshow": {
     "slide_type": "fragment"
    }
   },
   "outputs": [
    {
     "data": {
      "text/plain": [
       "CellName\n",
       "Cell_000111    826.539594\n",
       "Cell_000112    395.399762\n",
       "Cell_000113    502.557161\n",
       "Cell_000231    507.977037\n",
       "Cell_000232    428.892371\n",
       "Name: Traffic, dtype: float64"
      ]
     },
     "execution_count": 35,
     "metadata": {},
     "output_type": "execute_result"
    }
   ],
   "source": [
    "#podemos ver a serie gerada\n",
    "df_avg.head()"
   ]
  },
  {
   "cell_type": "code",
   "execution_count": 36,
   "metadata": {
    "slideshow": {
     "slide_type": "slide"
    }
   },
   "outputs": [],
   "source": [
    "# Podemos transformar uma serie em DF removendo os indices e também é possível ordernar um DF.\n",
    "df_avg = df_avg.reset_index().sort_values(by='Traffic', ascending=False)"
   ]
  },
  {
   "cell_type": "code",
   "execution_count": 37,
   "metadata": {
    "slideshow": {
     "slide_type": "fragment"
    }
   },
   "outputs": [
    {
     "data": {
      "text/html": [
       "<div>\n",
       "<style scoped>\n",
       "    .dataframe tbody tr th:only-of-type {\n",
       "        vertical-align: middle;\n",
       "    }\n",
       "\n",
       "    .dataframe tbody tr th {\n",
       "        vertical-align: top;\n",
       "    }\n",
       "\n",
       "    .dataframe thead th {\n",
       "        text-align: right;\n",
       "    }\n",
       "</style>\n",
       "<table border=\"1\" class=\"dataframe\">\n",
       "  <thead>\n",
       "    <tr style=\"text-align: right;\">\n",
       "      <th></th>\n",
       "      <th>CellName</th>\n",
       "      <th>Traffic</th>\n",
       "    </tr>\n",
       "  </thead>\n",
       "  <tbody>\n",
       "    <tr>\n",
       "      <th>38</th>\n",
       "      <td>Cell_003793</td>\n",
       "      <td>1146.074445</td>\n",
       "    </tr>\n",
       "    <tr>\n",
       "      <th>47</th>\n",
       "      <td>Cell_006653</td>\n",
       "      <td>1041.518544</td>\n",
       "    </tr>\n",
       "    <tr>\n",
       "      <th>40</th>\n",
       "      <td>Cell_004072</td>\n",
       "      <td>1024.744420</td>\n",
       "    </tr>\n",
       "    <tr>\n",
       "      <th>15</th>\n",
       "      <td>Cell_001791</td>\n",
       "      <td>928.210292</td>\n",
       "    </tr>\n",
       "    <tr>\n",
       "      <th>45</th>\n",
       "      <td>Cell_006651</td>\n",
       "      <td>899.250459</td>\n",
       "    </tr>\n",
       "  </tbody>\n",
       "</table>\n",
       "</div>"
      ],
      "text/plain": [
       "       CellName      Traffic\n",
       "38  Cell_003793  1146.074445\n",
       "47  Cell_006653  1041.518544\n",
       "40  Cell_004072  1024.744420\n",
       "15  Cell_001791   928.210292\n",
       "45  Cell_006651   899.250459"
      ]
     },
     "execution_count": 37,
     "metadata": {},
     "output_type": "execute_result"
    }
   ],
   "source": [
    "df_avg.head()"
   ]
  },
  {
   "cell_type": "code",
   "execution_count": 38,
   "metadata": {
    "slideshow": {
     "slide_type": "slide"
    }
   },
   "outputs": [],
   "source": [
    "#Podemos fazer um filtro pela celula que teve o maior tráfego.\n",
    "df_cell93 = df[df['CellName'] == 'Cell_003793']"
   ]
  },
  {
   "cell_type": "code",
   "execution_count": 39,
   "metadata": {
    "slideshow": {
     "slide_type": "fragment"
    }
   },
   "outputs": [
    {
     "data": {
      "text/html": [
       "<div>\n",
       "<style scoped>\n",
       "    .dataframe tbody tr th:only-of-type {\n",
       "        vertical-align: middle;\n",
       "    }\n",
       "\n",
       "    .dataframe tbody tr th {\n",
       "        vertical-align: top;\n",
       "    }\n",
       "\n",
       "    .dataframe thead th {\n",
       "        text-align: right;\n",
       "    }\n",
       "</style>\n",
       "<table border=\"1\" class=\"dataframe\">\n",
       "  <thead>\n",
       "    <tr style=\"text-align: right;\">\n",
       "      <th></th>\n",
       "      <th>DateTime</th>\n",
       "      <th>CellName</th>\n",
       "      <th>Traffic</th>\n",
       "    </tr>\n",
       "  </thead>\n",
       "  <tbody>\n",
       "    <tr>\n",
       "      <th>40</th>\n",
       "      <td>2017-10-23 16:00:00</td>\n",
       "      <td>Cell_003793</td>\n",
       "      <td>220.60219</td>\n",
       "    </tr>\n",
       "    <tr>\n",
       "      <th>53</th>\n",
       "      <td>2017-10-23 18:00:00</td>\n",
       "      <td>Cell_003793</td>\n",
       "      <td>2137.26495</td>\n",
       "    </tr>\n",
       "    <tr>\n",
       "      <th>61</th>\n",
       "      <td>2017-10-23 20:00:00</td>\n",
       "      <td>Cell_003793</td>\n",
       "      <td>3573.06291</td>\n",
       "    </tr>\n",
       "    <tr>\n",
       "      <th>67</th>\n",
       "      <td>2017-10-23 22:00:00</td>\n",
       "      <td>Cell_003793</td>\n",
       "      <td>569.25024</td>\n",
       "    </tr>\n",
       "    <tr>\n",
       "      <th>77</th>\n",
       "      <td>2017-10-23 10:00:00</td>\n",
       "      <td>Cell_003793</td>\n",
       "      <td>584.61053</td>\n",
       "    </tr>\n",
       "  </tbody>\n",
       "</table>\n",
       "</div>"
      ],
      "text/plain": [
       "              DateTime     CellName     Traffic\n",
       "40 2017-10-23 16:00:00  Cell_003793   220.60219\n",
       "53 2017-10-23 18:00:00  Cell_003793  2137.26495\n",
       "61 2017-10-23 20:00:00  Cell_003793  3573.06291\n",
       "67 2017-10-23 22:00:00  Cell_003793   569.25024\n",
       "77 2017-10-23 10:00:00  Cell_003793   584.61053"
      ]
     },
     "execution_count": 39,
     "metadata": {},
     "output_type": "execute_result"
    }
   ],
   "source": [
    "df_cell93.head()"
   ]
  },
  {
   "cell_type": "code",
   "execution_count": 40,
   "metadata": {
    "slideshow": {
     "slide_type": "slide"
    }
   },
   "outputs": [],
   "source": [
    "#podemos agrupar por mês, para encontrar o mês da célula que teve maior tráfego \n",
    "df_cell93_month = df_cell93.set_index('DateTime').groupby(pd.Grouper(freq='M')).mean()"
   ]
  },
  {
   "cell_type": "code",
   "execution_count": 41,
   "metadata": {
    "slideshow": {
     "slide_type": "fragment"
    }
   },
   "outputs": [
    {
     "data": {
      "text/html": [
       "<div>\n",
       "<style scoped>\n",
       "    .dataframe tbody tr th:only-of-type {\n",
       "        vertical-align: middle;\n",
       "    }\n",
       "\n",
       "    .dataframe tbody tr th {\n",
       "        vertical-align: top;\n",
       "    }\n",
       "\n",
       "    .dataframe thead th {\n",
       "        text-align: right;\n",
       "    }\n",
       "</style>\n",
       "<table border=\"1\" class=\"dataframe\">\n",
       "  <thead>\n",
       "    <tr style=\"text-align: right;\">\n",
       "      <th></th>\n",
       "      <th>Traffic</th>\n",
       "    </tr>\n",
       "    <tr>\n",
       "      <th>DateTime</th>\n",
       "      <th></th>\n",
       "    </tr>\n",
       "  </thead>\n",
       "  <tbody>\n",
       "    <tr>\n",
       "      <th>2017-10-31</th>\n",
       "      <td>612.843579</td>\n",
       "    </tr>\n",
       "    <tr>\n",
       "      <th>2017-11-30</th>\n",
       "      <td>652.696231</td>\n",
       "    </tr>\n",
       "    <tr>\n",
       "      <th>2017-12-31</th>\n",
       "      <td>652.073250</td>\n",
       "    </tr>\n",
       "    <tr>\n",
       "      <th>2018-01-31</th>\n",
       "      <td>727.693129</td>\n",
       "    </tr>\n",
       "    <tr>\n",
       "      <th>2018-02-28</th>\n",
       "      <td>1070.738298</td>\n",
       "    </tr>\n",
       "  </tbody>\n",
       "</table>\n",
       "</div>"
      ],
      "text/plain": [
       "                Traffic\n",
       "DateTime               \n",
       "2017-10-31   612.843579\n",
       "2017-11-30   652.696231\n",
       "2017-12-31   652.073250\n",
       "2018-01-31   727.693129\n",
       "2018-02-28  1070.738298"
      ]
     },
     "execution_count": 41,
     "metadata": {},
     "output_type": "execute_result"
    }
   ],
   "source": [
    "df_cell93_month.head()"
   ]
  },
  {
   "cell_type": "code",
   "execution_count": 43,
   "metadata": {
    "slideshow": {
     "slide_type": "subslide"
    }
   },
   "outputs": [
    {
     "data": {
      "text/plain": [
       "<matplotlib.axes._subplots.AxesSubplot at 0x110e4dba8>"
      ]
     },
     "execution_count": 43,
     "metadata": {},
     "output_type": "execute_result"
    },
    {
     "data": {
      "image/png": "[encoded data removed]",
      "text/plain": [
       "<Figure size 432x288 with 1 Axes>"
      ]
     },
     "metadata": {},
     "output_type": "display_data"
    }
   ],
   "source": [
    "df_cell93_month.plot.bar()"
   ]
  },
  {
   "cell_type": "code",
   "execution_count": 44,
   "metadata": {
    "slideshow": {
     "slide_type": "slide"
    }
   },
   "outputs": [],
   "source": [
    "#podemos aplicar um filtro para pegar somente as medidas do mês de maior média tráfego.\n",
    "df_cell93_201809 = df_cell93[(df_cell93['DateTime'] > '2018-09-01') & (df_cell93['DateTime'] < '2018-09-30')]"
   ]
  },
  {
   "cell_type": "code",
   "execution_count": 45,
   "metadata": {
    "slideshow": {
     "slide_type": "fragment"
    }
   },
   "outputs": [
    {
     "data": {
      "text/html": [
       "<div>\n",
       "<style scoped>\n",
       "    .dataframe tbody tr th:only-of-type {\n",
       "        vertical-align: middle;\n",
       "    }\n",
       "\n",
       "    .dataframe tbody tr th {\n",
       "        vertical-align: top;\n",
       "    }\n",
       "\n",
       "    .dataframe thead th {\n",
       "        text-align: right;\n",
       "    }\n",
       "</style>\n",
       "<table border=\"1\" class=\"dataframe\">\n",
       "  <thead>\n",
       "    <tr style=\"text-align: right;\">\n",
       "      <th></th>\n",
       "      <th>DateTime</th>\n",
       "      <th>CellName</th>\n",
       "      <th>Traffic</th>\n",
       "    </tr>\n",
       "  </thead>\n",
       "  <tbody>\n",
       "    <tr>\n",
       "      <th>426735</th>\n",
       "      <td>2018-09-01 06:00:00</td>\n",
       "      <td>Cell_003793</td>\n",
       "      <td>886.81161</td>\n",
       "    </tr>\n",
       "    <tr>\n",
       "      <th>426746</th>\n",
       "      <td>2018-09-01 04:00:00</td>\n",
       "      <td>Cell_003793</td>\n",
       "      <td>218.04911</td>\n",
       "    </tr>\n",
       "    <tr>\n",
       "      <th>426780</th>\n",
       "      <td>2018-09-01 23:00:00</td>\n",
       "      <td>Cell_003793</td>\n",
       "      <td>2524.86956</td>\n",
       "    </tr>\n",
       "    <tr>\n",
       "      <th>426854</th>\n",
       "      <td>2018-09-01 17:00:00</td>\n",
       "      <td>Cell_003793</td>\n",
       "      <td>2704.64340</td>\n",
       "    </tr>\n",
       "    <tr>\n",
       "      <th>427015</th>\n",
       "      <td>2018-09-01 14:00:00</td>\n",
       "      <td>Cell_003793</td>\n",
       "      <td>1796.25271</td>\n",
       "    </tr>\n",
       "  </tbody>\n",
       "</table>\n",
       "</div>"
      ],
      "text/plain": [
       "                  DateTime     CellName     Traffic\n",
       "426735 2018-09-01 06:00:00  Cell_003793   886.81161\n",
       "426746 2018-09-01 04:00:00  Cell_003793   218.04911\n",
       "426780 2018-09-01 23:00:00  Cell_003793  2524.86956\n",
       "426854 2018-09-01 17:00:00  Cell_003793  2704.64340\n",
       "427015 2018-09-01 14:00:00  Cell_003793  1796.25271"
      ]
     },
     "execution_count": 45,
     "metadata": {},
     "output_type": "execute_result"
    }
   ],
   "source": [
    "df_cell93_201809.head()"
   ]
  },
  {
   "cell_type": "code",
   "execution_count": 46,
   "metadata": {
    "slideshow": {
     "slide_type": "slide"
    }
   },
   "outputs": [],
   "source": [
    "df_cell93_201809_day = df_cell93_201809.set_index('DateTime').groupby(pd.Grouper(freq='D')).mean()"
   ]
  },
  {
   "cell_type": "code",
   "execution_count": 47,
   "metadata": {
    "slideshow": {
     "slide_type": "fragment"
    }
   },
   "outputs": [
    {
     "data": {
      "text/plain": [
       "<matplotlib.axes._subplots.AxesSubplot at 0x110efe710>"
      ]
     },
     "execution_count": 47,
     "metadata": {},
     "output_type": "execute_result"
    },
    {
     "data": {
      "image/png": "[encoded data removed]",
      "text/plain": [
       "<Figure size 432x288 with 1 Axes>"
      ]
     },
     "metadata": {},
     "output_type": "display_data"
    }
   ],
   "source": [
    "df_cell93_201809_day.plot.bar()"
   ]
  },
  {
   "cell_type": "code",
   "execution_count": 48,
   "metadata": {
    "slideshow": {
     "slide_type": "slide"
    }
   },
   "outputs": [],
   "source": [
    "df_cell93_201809_day = df_cell93_201809_day.sort_values(by='Traffic', ascending=False)"
   ]
  },
  {
   "cell_type": "code",
   "execution_count": 49,
   "metadata": {
    "slideshow": {
     "slide_type": "fragment"
    }
   },
   "outputs": [
    {
     "data": {
      "text/html": [
       "<div>\n",
       "<style scoped>\n",
       "    .dataframe tbody tr th:only-of-type {\n",
       "        vertical-align: middle;\n",
       "    }\n",
       "\n",
       "    .dataframe tbody tr th {\n",
       "        vertical-align: top;\n",
       "    }\n",
       "\n",
       "    .dataframe thead th {\n",
       "        text-align: right;\n",
       "    }\n",
       "</style>\n",
       "<table border=\"1\" class=\"dataframe\">\n",
       "  <thead>\n",
       "    <tr style=\"text-align: right;\">\n",
       "      <th></th>\n",
       "      <th>Traffic</th>\n",
       "    </tr>\n",
       "    <tr>\n",
       "      <th>DateTime</th>\n",
       "      <th></th>\n",
       "    </tr>\n",
       "  </thead>\n",
       "  <tbody>\n",
       "    <tr>\n",
       "      <th>2018-09-02</th>\n",
       "      <td>2905.031414</td>\n",
       "    </tr>\n",
       "    <tr>\n",
       "      <th>2018-09-23</th>\n",
       "      <td>2796.101143</td>\n",
       "    </tr>\n",
       "    <tr>\n",
       "      <th>2018-09-03</th>\n",
       "      <td>2592.898723</td>\n",
       "    </tr>\n",
       "    <tr>\n",
       "      <th>2018-09-09</th>\n",
       "      <td>2539.180058</td>\n",
       "    </tr>\n",
       "    <tr>\n",
       "      <th>2018-09-01</th>\n",
       "      <td>2299.637862</td>\n",
       "    </tr>\n",
       "  </tbody>\n",
       "</table>\n",
       "</div>"
      ],
      "text/plain": [
       "                Traffic\n",
       "DateTime               \n",
       "2018-09-02  2905.031414\n",
       "2018-09-23  2796.101143\n",
       "2018-09-03  2592.898723\n",
       "2018-09-09  2539.180058\n",
       "2018-09-01  2299.637862"
      ]
     },
     "execution_count": 49,
     "metadata": {},
     "output_type": "execute_result"
    }
   ],
   "source": [
    "df_cell93_201809_day.head()"
   ]
  },
  {
   "cell_type": "code",
   "execution_count": 50,
   "metadata": {
    "slideshow": {
     "slide_type": "slide"
    }
   },
   "outputs": [],
   "source": [
    "df_cell93_20180902 = df_cell93[(df_cell93['DateTime'] > '2018-09-02') & (df_cell93['DateTime'] < '2018-09-03')]"
   ]
  },
  {
   "cell_type": "code",
   "execution_count": 51,
   "metadata": {
    "slideshow": {
     "slide_type": "fragment"
    }
   },
   "outputs": [
    {
     "data": {
      "text/html": [
       "<div>\n",
       "<style scoped>\n",
       "    .dataframe tbody tr th:only-of-type {\n",
       "        vertical-align: middle;\n",
       "    }\n",
       "\n",
       "    .dataframe tbody tr th {\n",
       "        vertical-align: top;\n",
       "    }\n",
       "\n",
       "    .dataframe thead th {\n",
       "        text-align: right;\n",
       "    }\n",
       "</style>\n",
       "<table border=\"1\" class=\"dataframe\">\n",
       "  <thead>\n",
       "    <tr style=\"text-align: right;\">\n",
       "      <th></th>\n",
       "      <th>DateTime</th>\n",
       "      <th>CellName</th>\n",
       "      <th>Traffic</th>\n",
       "    </tr>\n",
       "  </thead>\n",
       "  <tbody>\n",
       "    <tr>\n",
       "      <th>428204</th>\n",
       "      <td>2018-09-02 05:00:00</td>\n",
       "      <td>Cell_003793</td>\n",
       "      <td>825.79943</td>\n",
       "    </tr>\n",
       "    <tr>\n",
       "      <th>428270</th>\n",
       "      <td>2018-09-02 07:00:00</td>\n",
       "      <td>Cell_003793</td>\n",
       "      <td>1522.44144</td>\n",
       "    </tr>\n",
       "    <tr>\n",
       "      <th>428309</th>\n",
       "      <td>2018-09-02 23:00:00</td>\n",
       "      <td>Cell_003793</td>\n",
       "      <td>2800.44253</td>\n",
       "    </tr>\n",
       "    <tr>\n",
       "      <th>428354</th>\n",
       "      <td>2018-09-02 20:00:00</td>\n",
       "      <td>Cell_003793</td>\n",
       "      <td>3127.74672</td>\n",
       "    </tr>\n",
       "    <tr>\n",
       "      <th>428360</th>\n",
       "      <td>2018-09-02 10:00:00</td>\n",
       "      <td>Cell_003793</td>\n",
       "      <td>4232.54801</td>\n",
       "    </tr>\n",
       "  </tbody>\n",
       "</table>\n",
       "</div>"
      ],
      "text/plain": [
       "                  DateTime     CellName     Traffic\n",
       "428204 2018-09-02 05:00:00  Cell_003793   825.79943\n",
       "428270 2018-09-02 07:00:00  Cell_003793  1522.44144\n",
       "428309 2018-09-02 23:00:00  Cell_003793  2800.44253\n",
       "428354 2018-09-02 20:00:00  Cell_003793  3127.74672\n",
       "428360 2018-09-02 10:00:00  Cell_003793  4232.54801"
      ]
     },
     "execution_count": 51,
     "metadata": {},
     "output_type": "execute_result"
    }
   ],
   "source": [
    "df_cell93_20180902.head()"
   ]
  },
  {
   "cell_type": "code",
   "execution_count": 52,
   "metadata": {
    "slideshow": {
     "slide_type": "slide"
    }
   },
   "outputs": [],
   "source": [
    "df_cell93_20180902 = df_cell93_20180902.sort_values(by='DateTime')"
   ]
  },
  {
   "cell_type": "code",
   "execution_count": 53,
   "metadata": {
    "slideshow": {
     "slide_type": "fragment"
    }
   },
   "outputs": [],
   "source": [
    "df_cell93_20180902.set_index('DateTime', inplace=True)"
   ]
  },
  {
   "cell_type": "code",
   "execution_count": 54,
   "metadata": {
    "slideshow": {
     "slide_type": "fragment"
    }
   },
   "outputs": [
    {
     "data": {
      "text/html": [
       "<div>\n",
       "<style scoped>\n",
       "    .dataframe tbody tr th:only-of-type {\n",
       "        vertical-align: middle;\n",
       "    }\n",
       "\n",
       "    .dataframe tbody tr th {\n",
       "        vertical-align: top;\n",
       "    }\n",
       "\n",
       "    .dataframe thead th {\n",
       "        text-align: right;\n",
       "    }\n",
       "</style>\n",
       "<table border=\"1\" class=\"dataframe\">\n",
       "  <thead>\n",
       "    <tr style=\"text-align: right;\">\n",
       "      <th></th>\n",
       "      <th>CellName</th>\n",
       "      <th>Traffic</th>\n",
       "    </tr>\n",
       "    <tr>\n",
       "      <th>DateTime</th>\n",
       "      <th></th>\n",
       "      <th></th>\n",
       "    </tr>\n",
       "  </thead>\n",
       "  <tbody>\n",
       "    <tr>\n",
       "      <th>2018-09-02 01:00:00</th>\n",
       "      <td>Cell_003793</td>\n",
       "      <td>508.05927</td>\n",
       "    </tr>\n",
       "    <tr>\n",
       "      <th>2018-09-02 02:00:00</th>\n",
       "      <td>Cell_003793</td>\n",
       "      <td>1560.45242</td>\n",
       "    </tr>\n",
       "    <tr>\n",
       "      <th>2018-09-02 03:00:00</th>\n",
       "      <td>Cell_003793</td>\n",
       "      <td>151.06040</td>\n",
       "    </tr>\n",
       "    <tr>\n",
       "      <th>2018-09-02 04:00:00</th>\n",
       "      <td>Cell_003793</td>\n",
       "      <td>240.39783</td>\n",
       "    </tr>\n",
       "    <tr>\n",
       "      <th>2018-09-02 05:00:00</th>\n",
       "      <td>Cell_003793</td>\n",
       "      <td>825.79943</td>\n",
       "    </tr>\n",
       "  </tbody>\n",
       "</table>\n",
       "</div>"
      ],
      "text/plain": [
       "                        CellName     Traffic\n",
       "DateTime                                    \n",
       "2018-09-02 01:00:00  Cell_003793   508.05927\n",
       "2018-09-02 02:00:00  Cell_003793  1560.45242\n",
       "2018-09-02 03:00:00  Cell_003793   151.06040\n",
       "2018-09-02 04:00:00  Cell_003793   240.39783\n",
       "2018-09-02 05:00:00  Cell_003793   825.79943"
      ]
     },
     "execution_count": 54,
     "metadata": {},
     "output_type": "execute_result"
    }
   ],
   "source": [
    "df_cell93_20180902.head()"
   ]
  },
  {
   "cell_type": "code",
   "execution_count": 55,
   "metadata": {
    "slideshow": {
     "slide_type": "slide"
    }
   },
   "outputs": [
    {
     "data": {
      "text/html": [
       "<div>\n",
       "<style scoped>\n",
       "    .dataframe tbody tr th:only-of-type {\n",
       "        vertical-align: middle;\n",
       "    }\n",
       "\n",
       "    .dataframe tbody tr th {\n",
       "        vertical-align: top;\n",
       "    }\n",
       "\n",
       "    .dataframe thead th {\n",
       "        text-align: right;\n",
       "    }\n",
       "</style>\n",
       "<table border=\"1\" class=\"dataframe\">\n",
       "  <thead>\n",
       "    <tr style=\"text-align: right;\">\n",
       "      <th></th>\n",
       "      <th>CellName</th>\n",
       "      <th>Traffic</th>\n",
       "    </tr>\n",
       "    <tr>\n",
       "      <th>DateTime</th>\n",
       "      <th></th>\n",
       "      <th></th>\n",
       "    </tr>\n",
       "  </thead>\n",
       "  <tbody>\n",
       "    <tr>\n",
       "      <th>2018-09-02 01:00:00</th>\n",
       "      <td>Cell_003793</td>\n",
       "      <td>508.05927</td>\n",
       "    </tr>\n",
       "    <tr>\n",
       "      <th>2018-09-02 02:00:00</th>\n",
       "      <td>Cell_003793</td>\n",
       "      <td>1560.45242</td>\n",
       "    </tr>\n",
       "    <tr>\n",
       "      <th>2018-09-02 03:00:00</th>\n",
       "      <td>Cell_003793</td>\n",
       "      <td>151.06040</td>\n",
       "    </tr>\n",
       "    <tr>\n",
       "      <th>2018-09-02 04:00:00</th>\n",
       "      <td>Cell_003793</td>\n",
       "      <td>240.39783</td>\n",
       "    </tr>\n",
       "    <tr>\n",
       "      <th>2018-09-02 05:00:00</th>\n",
       "      <td>Cell_003793</td>\n",
       "      <td>825.79943</td>\n",
       "    </tr>\n",
       "    <tr>\n",
       "      <th>2018-09-02 06:00:00</th>\n",
       "      <td>Cell_003793</td>\n",
       "      <td>945.77117</td>\n",
       "    </tr>\n",
       "    <tr>\n",
       "      <th>2018-09-02 07:00:00</th>\n",
       "      <td>Cell_003793</td>\n",
       "      <td>1522.44144</td>\n",
       "    </tr>\n",
       "    <tr>\n",
       "      <th>2018-09-02 08:00:00</th>\n",
       "      <td>Cell_003793</td>\n",
       "      <td>2598.27832</td>\n",
       "    </tr>\n",
       "    <tr>\n",
       "      <th>2018-09-02 09:00:00</th>\n",
       "      <td>Cell_003793</td>\n",
       "      <td>3684.60079</td>\n",
       "    </tr>\n",
       "    <tr>\n",
       "      <th>2018-09-02 10:00:00</th>\n",
       "      <td>Cell_003793</td>\n",
       "      <td>4232.54801</td>\n",
       "    </tr>\n",
       "    <tr>\n",
       "      <th>2018-09-02 11:00:00</th>\n",
       "      <td>Cell_003793</td>\n",
       "      <td>4150.51716</td>\n",
       "    </tr>\n",
       "    <tr>\n",
       "      <th>2018-09-02 12:00:00</th>\n",
       "      <td>Cell_003793</td>\n",
       "      <td>5452.30841</td>\n",
       "    </tr>\n",
       "    <tr>\n",
       "      <th>2018-09-02 13:00:00</th>\n",
       "      <td>Cell_003793</td>\n",
       "      <td>3887.87486</td>\n",
       "    </tr>\n",
       "    <tr>\n",
       "      <th>2018-09-02 14:00:00</th>\n",
       "      <td>Cell_003793</td>\n",
       "      <td>5420.41356</td>\n",
       "    </tr>\n",
       "    <tr>\n",
       "      <th>2018-09-02 15:00:00</th>\n",
       "      <td>Cell_003793</td>\n",
       "      <td>3604.17349</td>\n",
       "    </tr>\n",
       "    <tr>\n",
       "      <th>2018-09-02 16:00:00</th>\n",
       "      <td>Cell_003793</td>\n",
       "      <td>2693.45219</td>\n",
       "    </tr>\n",
       "    <tr>\n",
       "      <th>2018-09-02 17:00:00</th>\n",
       "      <td>Cell_003793</td>\n",
       "      <td>3069.58580</td>\n",
       "    </tr>\n",
       "    <tr>\n",
       "      <th>2018-09-02 18:00:00</th>\n",
       "      <td>Cell_003793</td>\n",
       "      <td>3856.94253</td>\n",
       "    </tr>\n",
       "    <tr>\n",
       "      <th>2018-09-02 19:00:00</th>\n",
       "      <td>Cell_003793</td>\n",
       "      <td>4038.81446</td>\n",
       "    </tr>\n",
       "    <tr>\n",
       "      <th>2018-09-02 20:00:00</th>\n",
       "      <td>Cell_003793</td>\n",
       "      <td>3127.74672</td>\n",
       "    </tr>\n",
       "    <tr>\n",
       "      <th>2018-09-02 21:00:00</th>\n",
       "      <td>Cell_003793</td>\n",
       "      <td>5581.14067</td>\n",
       "    </tr>\n",
       "    <tr>\n",
       "      <th>2018-09-02 22:00:00</th>\n",
       "      <td>Cell_003793</td>\n",
       "      <td>4829.68265</td>\n",
       "    </tr>\n",
       "    <tr>\n",
       "      <th>2018-09-02 23:00:00</th>\n",
       "      <td>Cell_003793</td>\n",
       "      <td>2800.44253</td>\n",
       "    </tr>\n",
       "  </tbody>\n",
       "</table>\n",
       "</div>"
      ],
      "text/plain": [
       "                        CellName     Traffic\n",
       "DateTime                                    \n",
       "2018-09-02 01:00:00  Cell_003793   508.05927\n",
       "2018-09-02 02:00:00  Cell_003793  1560.45242\n",
       "2018-09-02 03:00:00  Cell_003793   151.06040\n",
       "2018-09-02 04:00:00  Cell_003793   240.39783\n",
       "2018-09-02 05:00:00  Cell_003793   825.79943\n",
       "2018-09-02 06:00:00  Cell_003793   945.77117\n",
       "2018-09-02 07:00:00  Cell_003793  1522.44144\n",
       "2018-09-02 08:00:00  Cell_003793  2598.27832\n",
       "2018-09-02 09:00:00  Cell_003793  3684.60079\n",
       "2018-09-02 10:00:00  Cell_003793  4232.54801\n",
       "2018-09-02 11:00:00  Cell_003793  4150.51716\n",
       "2018-09-02 12:00:00  Cell_003793  5452.30841\n",
       "2018-09-02 13:00:00  Cell_003793  3887.87486\n",
       "2018-09-02 14:00:00  Cell_003793  5420.41356\n",
       "2018-09-02 15:00:00  Cell_003793  3604.17349\n",
       "2018-09-02 16:00:00  Cell_003793  2693.45219\n",
       "2018-09-02 17:00:00  Cell_003793  3069.58580\n",
       "2018-09-02 18:00:00  Cell_003793  3856.94253\n",
       "2018-09-02 19:00:00  Cell_003793  4038.81446\n",
       "2018-09-02 20:00:00  Cell_003793  3127.74672\n",
       "2018-09-02 21:00:00  Cell_003793  5581.14067\n",
       "2018-09-02 22:00:00  Cell_003793  4829.68265\n",
       "2018-09-02 23:00:00  Cell_003793  2800.44253"
      ]
     },
     "execution_count": 55,
     "metadata": {},
     "output_type": "execute_result"
    }
   ],
   "source": [
    "df_cell93_20180902"
   ]
  },
  {
   "cell_type": "code",
   "execution_count": 56,
   "metadata": {
    "slideshow": {
     "slide_type": "slide"
    }
   },
   "outputs": [
    {
     "data": {
      "text/plain": [
       "<matplotlib.axes._subplots.AxesSubplot at 0x1110fbc50>"
      ]
     },
     "execution_count": 56,
     "metadata": {},
     "output_type": "execute_result"
    },
    {
     "data": {
      "image/png": "[encoded data removed]",
      "text/plain": [
       "<Figure size 432x288 with 1 Axes>"
      ]
     },
     "metadata": {},
     "output_type": "display_data"
    }
   ],
   "source": [
    "df_cell93_20180902.plot.bar()"
   ]
  },
  {
   "cell_type": "markdown",
   "metadata": {
    "slideshow": {
     "slide_type": "slide"
    }
   },
   "source": [
    "### Pergunta 2: Quais os 10 horários e células com maior tráfego no último ano "
   ]
  },
  {
   "cell_type": "code",
   "execution_count": 57,
   "metadata": {
    "slideshow": {
     "slide_type": "subslide"
    }
   },
   "outputs": [
    {
     "data": {
      "text/html": [
       "<div>\n",
       "<style scoped>\n",
       "    .dataframe tbody tr th:only-of-type {\n",
       "        vertical-align: middle;\n",
       "    }\n",
       "\n",
       "    .dataframe tbody tr th {\n",
       "        vertical-align: top;\n",
       "    }\n",
       "\n",
       "    .dataframe thead th {\n",
       "        text-align: right;\n",
       "    }\n",
       "</style>\n",
       "<table border=\"1\" class=\"dataframe\">\n",
       "  <thead>\n",
       "    <tr style=\"text-align: right;\">\n",
       "      <th></th>\n",
       "      <th>DateTime</th>\n",
       "      <th>CellName</th>\n",
       "      <th>Traffic</th>\n",
       "    </tr>\n",
       "  </thead>\n",
       "  <tbody>\n",
       "    <tr>\n",
       "      <th>497477</th>\n",
       "      <td>2018-10-22 22:00:00</td>\n",
       "      <td>Cell_004073</td>\n",
       "      <td>10282.96334</td>\n",
       "    </tr>\n",
       "    <tr>\n",
       "      <th>445631</th>\n",
       "      <td>2018-09-14 03:00:00</td>\n",
       "      <td>Cell_004072</td>\n",
       "      <td>9640.18021</td>\n",
       "    </tr>\n",
       "    <tr>\n",
       "      <th>494679</th>\n",
       "      <td>2018-10-20 21:00:00</td>\n",
       "      <td>Cell_006661</td>\n",
       "      <td>8873.07994</td>\n",
       "    </tr>\n",
       "    <tr>\n",
       "      <th>206759</th>\n",
       "      <td>2018-03-23 15:00:00</td>\n",
       "      <td>Cell_000462</td>\n",
       "      <td>8619.50463</td>\n",
       "    </tr>\n",
       "    <tr>\n",
       "      <th>409097</th>\n",
       "      <td>2018-08-18 20:00:00</td>\n",
       "      <td>Cell_003793</td>\n",
       "      <td>8412.21761</td>\n",
       "    </tr>\n",
       "    <tr>\n",
       "      <th>363860</th>\n",
       "      <td>2018-07-16 14:00:00</td>\n",
       "      <td>Cell_006651</td>\n",
       "      <td>8403.72709</td>\n",
       "    </tr>\n",
       "    <tr>\n",
       "      <th>423149</th>\n",
       "      <td>2018-08-29 21:00:00</td>\n",
       "      <td>Cell_004072</td>\n",
       "      <td>8334.38913</td>\n",
       "    </tr>\n",
       "    <tr>\n",
       "      <th>303383</th>\n",
       "      <td>2018-06-02 16:00:00</td>\n",
       "      <td>Cell_006651</td>\n",
       "      <td>8201.65161</td>\n",
       "    </tr>\n",
       "    <tr>\n",
       "      <th>474203</th>\n",
       "      <td>2018-10-05 21:00:00</td>\n",
       "      <td>Cell_000111</td>\n",
       "      <td>8200.43549</td>\n",
       "    </tr>\n",
       "    <tr>\n",
       "      <th>485096</th>\n",
       "      <td>2018-10-13 20:00:00</td>\n",
       "      <td>Cell_006661</td>\n",
       "      <td>8122.70399</td>\n",
       "    </tr>\n",
       "  </tbody>\n",
       "</table>\n",
       "</div>"
      ],
      "text/plain": [
       "                  DateTime     CellName      Traffic\n",
       "497477 2018-10-22 22:00:00  Cell_004073  10282.96334\n",
       "445631 2018-09-14 03:00:00  Cell_004072   9640.18021\n",
       "494679 2018-10-20 21:00:00  Cell_006661   8873.07994\n",
       "206759 2018-03-23 15:00:00  Cell_000462   8619.50463\n",
       "409097 2018-08-18 20:00:00  Cell_003793   8412.21761\n",
       "363860 2018-07-16 14:00:00  Cell_006651   8403.72709\n",
       "423149 2018-08-29 21:00:00  Cell_004072   8334.38913\n",
       "303383 2018-06-02 16:00:00  Cell_006651   8201.65161\n",
       "474203 2018-10-05 21:00:00  Cell_000111   8200.43549\n",
       "485096 2018-10-13 20:00:00  Cell_006661   8122.70399"
      ]
     },
     "execution_count": 57,
     "metadata": {},
     "output_type": "execute_result"
    }
   ],
   "source": [
    "df.sort_values('Traffic', ascending=False)[:10]"
   ]
  },
  {
   "cell_type": "code",
   "execution_count": null,
   "metadata": {},
   "outputs": [],
   "source": []
  }
 ],
 "metadata": {
  "celltoolbar": "Slideshow",
  "kernelspec": {
   "display_name": "Python 3",
   "language": "python",
   "name": "python3"
  },
  "language_info": {
   "codemirror_mode": {
    "name": "ipython",
    "version": 3
   },
   "file_extension": ".py",
   "mimetype": "text/x-python",
   "name": "python",
   "nbconvert_exporter": "python",
   "pygments_lexer": "ipython3",
   "version": "3.7.3"
  }
 },
 "nbformat": 4,
 "nbformat_minor": 2
}
